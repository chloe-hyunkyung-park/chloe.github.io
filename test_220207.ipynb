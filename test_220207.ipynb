{
 "cells": [
  {
   "cell_type": "code",
   "execution_count": null,
   "metadata": {},
   "outputs": [],
   "source": [
    "#test"
   ]
  },
  {
   "cell_type": "code",
   "execution_count": 1,
   "metadata": {},
   "outputs": [
    {
     "name": "stdout",
     "output_type": "stream",
     "text": [
      "Requirement already satisfied: nbconvert in /Users/hyunkyung/opt/anaconda3/lib/python3.7/site-packages (5.6.0)\n",
      "Requirement already satisfied: pandocfilters>=1.4.1 in /Users/hyunkyung/opt/anaconda3/lib/python3.7/site-packages (from nbconvert) (1.4.2)\n",
      "Requirement already satisfied: pygments in /Users/hyunkyung/opt/anaconda3/lib/python3.7/site-packages (from nbconvert) (2.4.2)\n",
      "Requirement already satisfied: jinja2>=2.4 in /Users/hyunkyung/opt/anaconda3/lib/python3.7/site-packages (from nbconvert) (3.0.3)\n",
      "Requirement already satisfied: nbformat>=4.4 in /Users/hyunkyung/opt/anaconda3/lib/python3.7/site-packages (from nbconvert) (4.4.0)\n",
      "Requirement already satisfied: entrypoints>=0.2.2 in /Users/hyunkyung/opt/anaconda3/lib/python3.7/site-packages (from nbconvert) (0.3)\n",
      "Requirement already satisfied: defusedxml in /Users/hyunkyung/opt/anaconda3/lib/python3.7/site-packages (from nbconvert) (0.6.0)\n",
      "Requirement already satisfied: testpath in /Users/hyunkyung/opt/anaconda3/lib/python3.7/site-packages (from nbconvert) (0.4.2)\n",
      "Requirement already satisfied: bleach in /Users/hyunkyung/opt/anaconda3/lib/python3.7/site-packages (from nbconvert) (3.1.0)\n",
      "Requirement already satisfied: traitlets>=4.2 in /Users/hyunkyung/opt/anaconda3/lib/python3.7/site-packages (from nbconvert) (4.3.3)\n",
      "Requirement already satisfied: mistune<2,>=0.8.1 in /Users/hyunkyung/opt/anaconda3/lib/python3.7/site-packages (from nbconvert) (0.8.4)\n",
      "Requirement already satisfied: jupyter-core in /Users/hyunkyung/opt/anaconda3/lib/python3.7/site-packages (from nbconvert) (4.5.0)\n",
      "Requirement already satisfied: MarkupSafe>=2.0 in /Users/hyunkyung/opt/anaconda3/lib/python3.7/site-packages (from jinja2>=2.4->nbconvert) (2.0.1)\n",
      "Requirement already satisfied: ipython-genutils in /Users/hyunkyung/opt/anaconda3/lib/python3.7/site-packages (from nbformat>=4.4->nbconvert) (0.2.0)\n",
      "Requirement already satisfied: jsonschema!=2.5.0,>=2.4 in /Users/hyunkyung/opt/anaconda3/lib/python3.7/site-packages (from nbformat>=4.4->nbconvert) (3.0.2)\n",
      "Requirement already satisfied: six>=1.9.0 in /Users/hyunkyung/opt/anaconda3/lib/python3.7/site-packages (from bleach->nbconvert) (1.12.0)\n",
      "Requirement already satisfied: webencodings in /Users/hyunkyung/opt/anaconda3/lib/python3.7/site-packages (from bleach->nbconvert) (0.5.1)\n",
      "Requirement already satisfied: decorator in /Users/hyunkyung/opt/anaconda3/lib/python3.7/site-packages (from traitlets>=4.2->nbconvert) (4.4.0)\n",
      "Requirement already satisfied: pyrsistent>=0.14.0 in /Users/hyunkyung/opt/anaconda3/lib/python3.7/site-packages (from jsonschema!=2.5.0,>=2.4->nbformat>=4.4->nbconvert) (0.15.4)\n",
      "Requirement already satisfied: attrs>=17.4.0 in /Users/hyunkyung/opt/anaconda3/lib/python3.7/site-packages (from jsonschema!=2.5.0,>=2.4->nbformat>=4.4->nbconvert) (21.2.0)\n",
      "Requirement already satisfied: setuptools in /Users/hyunkyung/opt/anaconda3/lib/python3.7/site-packages (from jsonschema!=2.5.0,>=2.4->nbformat>=4.4->nbconvert) (41.4.0)\n"
     ]
    }
   ],
   "source": [
    "!pip install nbconvert"
   ]
  },
  {
   "cell_type": "code",
   "execution_count": null,
   "metadata": {},
   "outputs": [],
   "source": []
  },
  {
   "cell_type": "code",
   "execution_count": null,
   "metadata": {},
   "outputs": [],
   "source": []
  },
  {
   "cell_type": "code",
   "execution_count": null,
   "metadata": {},
   "outputs": [],
   "source": []
  },
  {
   "cell_type": "code",
   "execution_count": null,
   "metadata": {},
   "outputs": [],
   "source": []
  }
 ],
 "metadata": {
  "kernelspec": {
   "display_name": "Python 3",
   "language": "python",
   "name": "python3"
  },
  "language_info": {
   "codemirror_mode": {
    "name": "ipython",
    "version": 3
   },
   "file_extension": ".py",
   "mimetype": "text/x-python",
   "name": "python",
   "nbconvert_exporter": "python",
   "pygments_lexer": "ipython3",
   "version": "3.7.4"
  }
 },
 "nbformat": 4,
 "nbformat_minor": 2
}
